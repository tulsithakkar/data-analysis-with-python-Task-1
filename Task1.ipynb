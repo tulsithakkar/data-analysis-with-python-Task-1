{
 "cells": [
  {
   "cell_type": "code",
   "execution_count": 14,
   "id": "900701d6",
   "metadata": {},
   "outputs": [
    {
     "name": "stdout",
     "output_type": "stream",
     "text": [
      "['apple', 'banana', 'cherry', 'Pineapple', 'Strawberries', 'Kiwi']\n",
      "['apple', 'banana', 'cherry', 'Pineapple', 'Strawberries', 'Kiwi', 'Blueberry']\n",
      "['apple', 'banana', 'Guava', 'cherry', 'Pineapple', 'Strawberries', 'Kiwi', 'Blueberry']\n",
      "['apple', 'Coconut', 'Guava', 'cherry', 'Pineapple', 'Strawberries', 'Kiwi', 'Blueberry']\n",
      "['apple', 'Coconut', 'Guava', 'Pineapple', 'Strawberries', 'Kiwi', 'Blueberry']\n",
      "['apple', 'Coconut', 'Pineapple', 'Strawberries', 'Kiwi', 'Blueberry']\n"
     ]
    }
   ],
   "source": [
    "#   name : Tulsi Thakkar\n",
    "#   course: data analysis with python\n",
    "#   batch: 15 june 2024\n",
    "\n",
    "#Task -1 \n",
    "# Python List DataType\n",
    "\n",
    "#Create a list\n",
    "fruitslist = [\"apple\", \"banana\", \"cherry\", \"Pineapple\",\"Strawberries\",\"Kiwi\"]\n",
    "print(fruitslist)\n",
    "\n",
    "# Adding items to the list using Append method\n",
    "fruitslist.append(\"Blueberry\");\n",
    "print(fruitslist)\n",
    "\n",
    "#Adding items using insert metho\n",
    "fruitslist.insert(2,\"Guava\")\n",
    "print(fruitslist)\n",
    "\n",
    "# Modifiing items items to the list using index\n",
    "fruitslist[1]= \"Coconut\";\n",
    "print(fruitslist)\n",
    "\n",
    "# removeing items form the list using remove\n",
    "fruitslist.remove(\"cherry\")\n",
    "print(fruitslist)\n",
    "\n",
    "# removeing items form the list using pop\n",
    "fruitslist.pop(2)\n",
    "print(fruitslist)"
   ]
  },
  {
   "cell_type": "code",
   "execution_count": 22,
   "id": "951358ae",
   "metadata": {},
   "outputs": [
    {
     "name": "stdout",
     "output_type": "stream",
     "text": [
      "{'Id': '24MBA002', 'name': 'Jay', 'course': 'MBA', 'Age': 21, 'Address': 'Surat'}\n",
      "dict_keys(['Id', 'name', 'course', 'Age', 'Address'])\n",
      "dict_values(['24MBA002', 'Jay', 'MBA', 21, 'Surat'])\n",
      "{'Id': '24MBA002', 'name': 'Jay', 'course': 'B.Tech', 'Age': 21, 'Address': 'Surat'}\n",
      "{'Id': '24MBA002', 'name': 'Jay', 'course': 'B.Tech', 'Age': 33, 'Address': 'Surat'}\n",
      "{'Id': '24MBA002', 'name': 'Jay', 'course': 'B.Tech', 'Age': 33}\n"
     ]
    }
   ],
   "source": [
    "#Python dictionaries\n",
    "#create dictionaries\n",
    "StudentDict = {\n",
    "    \"Id\": \"24MBA002\",\n",
    "    \"name\" : \"Jay\",\n",
    "    \"course\": \"MBA\",\n",
    "    \"Age\": 21,\n",
    "    \"Address\": \"Surat\"\n",
    "}\n",
    "print(StudentDict)\n",
    "\n",
    "#print keys\n",
    "print(StudentDict.keys())\n",
    "\n",
    "#print values\n",
    "print(StudentDict.values())\n",
    "\n",
    "#modifing dictionaries using names\n",
    "StudentDict[\"course\"] =\"B.Tech\"\n",
    "print(StudentDict)\n",
    "\n",
    "#modifinding dictionaries using upadte\n",
    "StudentDict.update({\"Age\": 33})\n",
    "print(StudentDict)\n",
    "\n",
    "#delete dictionaries using pop\n",
    "StudentDict.pop(\"Address\")\n",
    "print(StudentDict)"
   ]
  },
  {
   "cell_type": "code",
   "execution_count": 31,
   "id": "059e3ad6",
   "metadata": {},
   "outputs": [
    {
     "name": "stdout",
     "output_type": "stream",
     "text": [
      "{'Cow', 'Cat', 'Goat', 'Dog', 'Bear'}\n",
      "{'Cow', 'Cat', 'Goat', 'Horse', 'Dog', 'Bear'}\n",
      "True\n",
      "{'Cat', 'Goat', 'Horse', 'Dog', 'Bear'}\n",
      "{'Cat', 'Horse', 'Dog', 'Bear'}\n"
     ]
    }
   ],
   "source": [
    "# Python sets\n",
    "\n",
    "AnimalSet = {\"Dog\", \"Cat\", \"Cow\", \"Goat\",\"Bear\"}\n",
    "print(AnimalSet)\n",
    "#Add items \n",
    "\n",
    "AnimalSet.add(\"Horse\")\n",
    "print(AnimalSet)\n",
    "\n",
    "#find Set is having item or not using using in\n",
    "print(\"Dog\" in AnimalSet) \n",
    "\n",
    "#Remove set items using remove method\n",
    "AnimalSet.remove(\"Cow\")\n",
    "print(AnimalSet)\n",
    "\n",
    "#Remove set items using Discard method\n",
    "AnimalSet.discard(\"Goat\")\n",
    "print(AnimalSet)\n"
   ]
  },
  {
   "cell_type": "code",
   "execution_count": null,
   "id": "bf43e98c",
   "metadata": {},
   "outputs": [],
   "source": []
  }
 ],
 "metadata": {
  "kernelspec": {
   "display_name": "Python 3 (ipykernel)",
   "language": "python",
   "name": "python3"
  },
  "language_info": {
   "codemirror_mode": {
    "name": "ipython",
    "version": 3
   },
   "file_extension": ".py",
   "mimetype": "text/x-python",
   "name": "python",
   "nbconvert_exporter": "python",
   "pygments_lexer": "ipython3",
   "version": "3.9.13"
  }
 },
 "nbformat": 4,
 "nbformat_minor": 5
}
